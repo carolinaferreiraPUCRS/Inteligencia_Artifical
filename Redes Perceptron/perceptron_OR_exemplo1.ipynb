{
  "nbformat": 4,
  "nbformat_minor": 0,
  "metadata": {
    "colab": {
      "provenance": []
    },
    "kernelspec": {
      "name": "python3",
      "display_name": "Python 3"
    },
    "language_info": {
      "name": "python"
    }
  },
  "cells": [
    {
      "cell_type": "code",
      "execution_count": 1,
      "metadata": {
        "id": "8n4auQXInhqs"
      },
      "outputs": [],
      "source": [
        "#Algoritmo de Treinamento do Perceptron\n",
        "\n",
        "#Funcao de ativacao\n",
        "def funcaoLimiar(v):\n",
        "  if v>=0: return 1\n",
        "  else: return 0\n",
        "\n",
        "def propagacao(tupla,pesos):\n",
        "  v = pesos[0] + pesos[1] * tupla[0] + pesos[2] * tupla[1]\n",
        "  return v\n"
      ]
    },
    {
      "cell_type": "code",
      "source": [
        "def algoritmoTreinamento(dados):\n",
        "  epoca = 0\n",
        "  eta = 1\n",
        "  pesos = [0,0,0]\n",
        "  print(\"Pesos iniciais: \", pesos)\n",
        "\n",
        "  erroGeral = 1\n",
        "  while erroGeral!=0 and epoca<=100:\n",
        "    erroGeral = 0\n",
        "    epoca = epoca + 1\n",
        "    print(\"\\nEpoca: \", epoca)\n",
        "    for tupla in dados:\n",
        "      print(\"Processando: \", tupla)\n",
        "      v = propagacao(tupla,pesos)\n",
        "      y = funcaoLimiar(v)\n",
        "      erro = tupla[2] - y\n",
        "      print('Erro = ', erro)\n",
        "      if erro!=0:\n",
        "        delta = eta * erro\n",
        "        pesos[0] = pesos[0] + delta\n",
        "        delta = eta * erro * tupla[0]\n",
        "        pesos[1] = pesos[1] + delta\n",
        "        delta = eta * erro * tupla[1]\n",
        "        pesos[2] = pesos[2] + delta\n",
        "      print(\"Pesos atuais: \", pesos)\n",
        "      erroGeral = erroGeral + abs(erro)\n",
        "\n",
        "  return pesos"
      ],
      "metadata": {
        "id": "c1eNMJ-qs4i0"
      },
      "execution_count": 27,
      "outputs": []
    },
    {
      "cell_type": "code",
      "source": [
        "#Tabela OR\n",
        "x1 = [0,0,1,1]\n",
        "x2 = [0,1,0,1]\n",
        "d =  [0,1,1,1]\n",
        "\n",
        "dados = []\n",
        "print('x1  x2  d')\n",
        "for i in range(0,len(x1)):\n",
        "  print(x1[i], ' ', x2[i], ' ', d[i])\n",
        "  dados.append([x1[i],x2[i],d[i]])\n",
        "#print(dados)"
      ],
      "metadata": {
        "colab": {
          "base_uri": "https://localhost:8080/"
        },
        "id": "G06Tsh2QoS2-",
        "outputId": "4e7bc841-1d99-42c7-db57-b0e7ec6c06a9"
      },
      "execution_count": 28,
      "outputs": [
        {
          "output_type": "stream",
          "name": "stdout",
          "text": [
            "x1  x2  d\n",
            "0   0   0\n",
            "0   1   1\n",
            "1   0   1\n",
            "1   1   1\n"
          ]
        }
      ]
    },
    {
      "cell_type": "code",
      "source": [
        "#Treinamento\n",
        "w = algoritmoTreinamento(dados)"
      ],
      "metadata": {
        "colab": {
          "base_uri": "https://localhost:8080/"
        },
        "id": "ULty4kDfpUmw",
        "outputId": "9fe45545-e15c-4e5b-e6d2-e3ced0ae6dfc"
      },
      "execution_count": 29,
      "outputs": [
        {
          "output_type": "stream",
          "name": "stdout",
          "text": [
            "Pesos iniciais:  [0, 0, 0]\n",
            "\n",
            "Epoca:  1\n",
            "Processando:  [0, 0, 0]\n",
            "Erro =  -1\n",
            "Pesos atuais:  [-1, 0, 0]\n",
            "Processando:  [0, 1, 1]\n",
            "Erro =  1\n",
            "Pesos atuais:  [0, 0, 1]\n",
            "Processando:  [1, 0, 1]\n",
            "Erro =  0\n",
            "Pesos atuais:  [0, 0, 1]\n",
            "Processando:  [1, 1, 1]\n",
            "Erro =  0\n",
            "Pesos atuais:  [0, 0, 1]\n",
            "\n",
            "Epoca:  2\n",
            "Processando:  [0, 0, 0]\n",
            "Erro =  -1\n",
            "Pesos atuais:  [-1, 0, 1]\n",
            "Processando:  [0, 1, 1]\n",
            "Erro =  0\n",
            "Pesos atuais:  [-1, 0, 1]\n",
            "Processando:  [1, 0, 1]\n",
            "Erro =  1\n",
            "Pesos atuais:  [0, 1, 1]\n",
            "Processando:  [1, 1, 1]\n",
            "Erro =  0\n",
            "Pesos atuais:  [0, 1, 1]\n",
            "\n",
            "Epoca:  3\n",
            "Processando:  [0, 0, 0]\n",
            "Erro =  -1\n",
            "Pesos atuais:  [-1, 1, 1]\n",
            "Processando:  [0, 1, 1]\n",
            "Erro =  0\n",
            "Pesos atuais:  [-1, 1, 1]\n",
            "Processando:  [1, 0, 1]\n",
            "Erro =  0\n",
            "Pesos atuais:  [-1, 1, 1]\n",
            "Processando:  [1, 1, 1]\n",
            "Erro =  0\n",
            "Pesos atuais:  [-1, 1, 1]\n",
            "\n",
            "Epoca:  4\n",
            "Processando:  [0, 0, 0]\n",
            "Erro =  0\n",
            "Pesos atuais:  [-1, 1, 1]\n",
            "Processando:  [0, 1, 1]\n",
            "Erro =  0\n",
            "Pesos atuais:  [-1, 1, 1]\n",
            "Processando:  [1, 0, 1]\n",
            "Erro =  0\n",
            "Pesos atuais:  [-1, 1, 1]\n",
            "Processando:  [1, 1, 1]\n",
            "Erro =  0\n",
            "Pesos atuais:  [-1, 1, 1]\n"
          ]
        }
      ]
    },
    {
      "cell_type": "code",
      "source": [
        "#Generalizacao\n",
        "\n",
        "entrada1 = int(input('Informe o valor de x1: '))\n",
        "entrada2 = int(input('Informe o valor de x2: '))\n",
        "tuplaEntrada = [entrada1,entrada2]\n",
        "\n",
        "v = propagacao(tuplaEntrada,w)\n",
        "y = funcaoLimiar(v)\n",
        "print('Saida da rede: ', y)\n"
      ],
      "metadata": {
        "colab": {
          "base_uri": "https://localhost:8080/"
        },
        "id": "2AFaIje4uFRI",
        "outputId": "c9aa390d-d0a6-4910-8acd-790d905fc840"
      },
      "execution_count": 31,
      "outputs": [
        {
          "output_type": "stream",
          "name": "stdout",
          "text": [
            "Informe o valor de x1: 1\n",
            "Informe o valor de x2: 1\n",
            "Saida da rede:  1\n"
          ]
        }
      ]
    }
  ]
}