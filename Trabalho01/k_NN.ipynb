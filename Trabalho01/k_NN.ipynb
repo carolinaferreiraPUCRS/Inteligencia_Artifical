{
 "cells": [
  {
   "cell_type": "code",
   "execution_count": 79,
   "id": "aadc9d70",
   "metadata": {},
   "outputs": [
    {
     "name": "stdout",
     "output_type": "stream",
     "text": [
      "Defaulting to user installation because normal site-packages is not writeable\n",
      "Requirement already satisfied: scikit-learn in c:\\users\\gusta\\appdata\\roaming\\python\\python312\\site-packages (1.6.1)\n",
      "Requirement already satisfied: numpy>=1.19.5 in c:\\users\\gusta\\appdata\\roaming\\python\\python312\\site-packages (from scikit-learn) (2.2.4)\n",
      "Requirement already satisfied: scipy>=1.6.0 in c:\\users\\gusta\\appdata\\roaming\\python\\python312\\site-packages (from scikit-learn) (1.15.2)\n",
      "Requirement already satisfied: joblib>=1.2.0 in c:\\users\\gusta\\appdata\\roaming\\python\\python312\\site-packages (from scikit-learn) (1.4.2)\n",
      "Requirement already satisfied: threadpoolctl>=3.1.0 in c:\\users\\gusta\\appdata\\roaming\\python\\python312\\site-packages (from scikit-learn) (3.6.0)\n",
      "Defaulting to user installation because normal site-packages is not writeable\n",
      "Requirement already satisfied: matplotlib in c:\\users\\gusta\\appdata\\roaming\\python\\python312\\site-packages (3.10.1)\n",
      "Requirement already satisfied: contourpy>=1.0.1 in c:\\users\\gusta\\appdata\\roaming\\python\\python312\\site-packages (from matplotlib) (1.3.2)\n",
      "Requirement already satisfied: cycler>=0.10 in c:\\users\\gusta\\appdata\\roaming\\python\\python312\\site-packages (from matplotlib) (0.12.1)\n",
      "Requirement already satisfied: fonttools>=4.22.0 in c:\\users\\gusta\\appdata\\roaming\\python\\python312\\site-packages (from matplotlib) (4.57.0)\n",
      "Requirement already satisfied: kiwisolver>=1.3.1 in c:\\users\\gusta\\appdata\\roaming\\python\\python312\\site-packages (from matplotlib) (1.4.8)\n",
      "Requirement already satisfied: numpy>=1.23 in c:\\users\\gusta\\appdata\\roaming\\python\\python312\\site-packages (from matplotlib) (2.2.4)\n",
      "Requirement already satisfied: packaging>=20.0 in c:\\users\\gusta\\appdata\\roaming\\python\\python312\\site-packages (from matplotlib) (24.2)\n",
      "Requirement already satisfied: pillow>=8 in c:\\users\\gusta\\appdata\\roaming\\python\\python312\\site-packages (from matplotlib) (11.2.1)\n",
      "Requirement already satisfied: pyparsing>=2.3.1 in c:\\users\\gusta\\appdata\\roaming\\python\\python312\\site-packages (from matplotlib) (3.2.3)\n",
      "Requirement already satisfied: python-dateutil>=2.7 in c:\\users\\gusta\\appdata\\roaming\\python\\python312\\site-packages (from matplotlib) (2.9.0.post0)\n",
      "Requirement already satisfied: six>=1.5 in c:\\users\\gusta\\appdata\\roaming\\python\\python312\\site-packages (from python-dateutil>=2.7->matplotlib) (1.17.0)\n",
      "Defaulting to user installation because normal site-packages is not writeable\n",
      "Collecting seaborn\n",
      "  Using cached seaborn-0.13.2-py3-none-any.whl.metadata (5.4 kB)\n",
      "Requirement already satisfied: numpy!=1.24.0,>=1.20 in c:\\users\\gusta\\appdata\\roaming\\python\\python312\\site-packages (from seaborn) (2.2.4)\n",
      "Requirement already satisfied: pandas>=1.2 in c:\\users\\gusta\\appdata\\roaming\\python\\python312\\site-packages (from seaborn) (2.2.3)\n",
      "Requirement already satisfied: matplotlib!=3.6.1,>=3.4 in c:\\users\\gusta\\appdata\\roaming\\python\\python312\\site-packages (from seaborn) (3.10.1)\n",
      "Requirement already satisfied: contourpy>=1.0.1 in c:\\users\\gusta\\appdata\\roaming\\python\\python312\\site-packages (from matplotlib!=3.6.1,>=3.4->seaborn) (1.3.2)\n",
      "Requirement already satisfied: cycler>=0.10 in c:\\users\\gusta\\appdata\\roaming\\python\\python312\\site-packages (from matplotlib!=3.6.1,>=3.4->seaborn) (0.12.1)\n",
      "Requirement already satisfied: fonttools>=4.22.0 in c:\\users\\gusta\\appdata\\roaming\\python\\python312\\site-packages (from matplotlib!=3.6.1,>=3.4->seaborn) (4.57.0)\n",
      "Requirement already satisfied: kiwisolver>=1.3.1 in c:\\users\\gusta\\appdata\\roaming\\python\\python312\\site-packages (from matplotlib!=3.6.1,>=3.4->seaborn) (1.4.8)\n",
      "Requirement already satisfied: packaging>=20.0 in c:\\users\\gusta\\appdata\\roaming\\python\\python312\\site-packages (from matplotlib!=3.6.1,>=3.4->seaborn) (24.2)\n",
      "Requirement already satisfied: pillow>=8 in c:\\users\\gusta\\appdata\\roaming\\python\\python312\\site-packages (from matplotlib!=3.6.1,>=3.4->seaborn) (11.2.1)\n",
      "Requirement already satisfied: pyparsing>=2.3.1 in c:\\users\\gusta\\appdata\\roaming\\python\\python312\\site-packages (from matplotlib!=3.6.1,>=3.4->seaborn) (3.2.3)\n",
      "Requirement already satisfied: python-dateutil>=2.7 in c:\\users\\gusta\\appdata\\roaming\\python\\python312\\site-packages (from matplotlib!=3.6.1,>=3.4->seaborn) (2.9.0.post0)\n",
      "Requirement already satisfied: pytz>=2020.1 in c:\\users\\gusta\\appdata\\roaming\\python\\python312\\site-packages (from pandas>=1.2->seaborn) (2025.2)\n",
      "Requirement already satisfied: tzdata>=2022.7 in c:\\users\\gusta\\appdata\\roaming\\python\\python312\\site-packages (from pandas>=1.2->seaborn) (2025.2)\n",
      "Requirement already satisfied: six>=1.5 in c:\\users\\gusta\\appdata\\roaming\\python\\python312\\site-packages (from python-dateutil>=2.7->matplotlib!=3.6.1,>=3.4->seaborn) (1.17.0)\n",
      "Using cached seaborn-0.13.2-py3-none-any.whl (294 kB)\n",
      "Installing collected packages: seaborn\n",
      "Successfully installed seaborn-0.13.2\n"
     ]
    }
   ],
   "source": [
    "!pip install scikit-learn\n",
    "!pip install matplotlib\n",
    "!pip install seaborn\n"
   ]
  },
  {
   "cell_type": "code",
   "execution_count": 80,
   "id": "ec52be99",
   "metadata": {},
   "outputs": [],
   "source": [
    "import numpy as np\n",
    "import pandas as pd\n",
    "from sklearn.neighbors import KNeighborsClassifier\n",
    "from sklearn.model_selection import train_test_split, cross_val_score\n",
    "from sklearn.metrics import confusion_matrix\n",
    "from sklearn.metrics import accuracy_score\n",
    "from sklearn.metrics import classification_report\n",
    "import matplotlib.pyplot as plt\n",
    "import seaborn as sns\n",
    "\n"
   ]
  },
  {
   "cell_type": "code",
   "execution_count": 132,
   "id": "2d6a10cc",
   "metadata": {},
   "outputs": [
    {
     "data": {
      "text/html": [
       "<div>\n",
       "<style scoped>\n",
       "    .dataframe tbody tr th:only-of-type {\n",
       "        vertical-align: middle;\n",
       "    }\n",
       "\n",
       "    .dataframe tbody tr th {\n",
       "        vertical-align: top;\n",
       "    }\n",
       "\n",
       "    .dataframe thead th {\n",
       "        text-align: right;\n",
       "    }\n",
       "</style>\n",
       "<table border=\"1\" class=\"dataframe\">\n",
       "  <thead>\n",
       "    <tr style=\"text-align: right;\">\n",
       "      <th></th>\n",
       "      <th>0</th>\n",
       "      <th>1</th>\n",
       "      <th>2</th>\n",
       "      <th>3</th>\n",
       "      <th>4</th>\n",
       "      <th>5</th>\n",
       "      <th>6</th>\n",
       "      <th>7</th>\n",
       "      <th>8</th>\n",
       "      <th>9</th>\n",
       "    </tr>\n",
       "  </thead>\n",
       "  <tbody>\n",
       "    <tr>\n",
       "      <th>0</th>\n",
       "      <td>-1</td>\n",
       "      <td>0</td>\n",
       "      <td>1</td>\n",
       "      <td>0</td>\n",
       "      <td>1</td>\n",
       "      <td>0</td>\n",
       "      <td>-1</td>\n",
       "      <td>1</td>\n",
       "      <td>0</td>\n",
       "      <td>hasgame</td>\n",
       "    </tr>\n",
       "    <tr>\n",
       "      <th>1</th>\n",
       "      <td>-1</td>\n",
       "      <td>0</td>\n",
       "      <td>1</td>\n",
       "      <td>0</td>\n",
       "      <td>0</td>\n",
       "      <td>1</td>\n",
       "      <td>1</td>\n",
       "      <td>1</td>\n",
       "      <td>0</td>\n",
       "      <td>hasgame</td>\n",
       "    </tr>\n",
       "    <tr>\n",
       "      <th>2</th>\n",
       "      <td>-1</td>\n",
       "      <td>0</td>\n",
       "      <td>1</td>\n",
       "      <td>0</td>\n",
       "      <td>1</td>\n",
       "      <td>-1</td>\n",
       "      <td>0</td>\n",
       "      <td>1</td>\n",
       "      <td>0</td>\n",
       "      <td>hasgame</td>\n",
       "    </tr>\n",
       "    <tr>\n",
       "      <th>3</th>\n",
       "      <td>-1</td>\n",
       "      <td>1</td>\n",
       "      <td>0</td>\n",
       "      <td>0</td>\n",
       "      <td>0</td>\n",
       "      <td>1</td>\n",
       "      <td>1</td>\n",
       "      <td>1</td>\n",
       "      <td>0</td>\n",
       "      <td>hasgame</td>\n",
       "    </tr>\n",
       "    <tr>\n",
       "      <th>4</th>\n",
       "      <td>-1</td>\n",
       "      <td>1</td>\n",
       "      <td>1</td>\n",
       "      <td>-1</td>\n",
       "      <td>0</td>\n",
       "      <td>0</td>\n",
       "      <td>1</td>\n",
       "      <td>1</td>\n",
       "      <td>0</td>\n",
       "      <td>hasgame</td>\n",
       "    </tr>\n",
       "  </tbody>\n",
       "</table>\n",
       "</div>"
      ],
      "text/plain": [
       "   0  1  2  3  4  5  6  7  8        9\n",
       "0 -1  0  1  0  1  0 -1  1  0  hasgame\n",
       "1 -1  0  1  0  0  1  1  1  0  hasgame\n",
       "2 -1  0  1  0  1 -1  0  1  0  hasgame\n",
       "3 -1  1  0  0  0  1  1  1  0  hasgame\n",
       "4 -1  1  1 -1  0  0  1  1  0  hasgame"
      ]
     },
     "execution_count": 132,
     "metadata": {},
     "output_type": "execute_result"
    }
   ],
   "source": [
    "X_train = []\n",
    "y_train = [] \n",
    "\n",
    "data = pd.read_csv('./data/dados_finais_300.csv', header=None)\n",
    "\n",
    "X = data.iloc[:, :9]\n",
    "Y = data.iloc[:, 9] \n",
    "\n",
    "data.head()"
   ]
  },
  {
   "cell_type": "code",
   "execution_count": 136,
   "id": "c8fbd928",
   "metadata": {},
   "outputs": [
    {
     "data": {
      "text/html": [
       "<div>\n",
       "<style scoped>\n",
       "    .dataframe tbody tr th:only-of-type {\n",
       "        vertical-align: middle;\n",
       "    }\n",
       "\n",
       "    .dataframe tbody tr th {\n",
       "        vertical-align: top;\n",
       "    }\n",
       "\n",
       "    .dataframe thead th {\n",
       "        text-align: right;\n",
       "    }\n",
       "</style>\n",
       "<table border=\"1\" class=\"dataframe\">\n",
       "  <thead>\n",
       "    <tr style=\"text-align: right;\">\n",
       "      <th>col_0</th>\n",
       "      <th>count</th>\n",
       "    </tr>\n",
       "    <tr>\n",
       "      <th>9</th>\n",
       "      <th></th>\n",
       "    </tr>\n",
       "  </thead>\n",
       "  <tbody>\n",
       "    <tr>\n",
       "      <th>hasgame</th>\n",
       "      <td>300</td>\n",
       "    </tr>\n",
       "    <tr>\n",
       "      <th>owin</th>\n",
       "      <td>294</td>\n",
       "    </tr>\n",
       "    <tr>\n",
       "      <th>tie</th>\n",
       "      <td>32</td>\n",
       "    </tr>\n",
       "    <tr>\n",
       "      <th>xwin</th>\n",
       "      <td>300</td>\n",
       "    </tr>\n",
       "  </tbody>\n",
       "</table>\n",
       "</div>"
      ],
      "text/plain": [
       "col_0    count\n",
       "9             \n",
       "hasgame    300\n",
       "owin       294\n",
       "tie         32\n",
       "xwin       300"
      ]
     },
     "execution_count": 136,
     "metadata": {},
     "output_type": "execute_result"
    }
   ],
   "source": [
    "# Saber quantas linhas existem de cada classe\n",
    "count_scenarios = pd.crosstab(index=data[9], columns=\"count\")\n",
    "X_train, X_test, y_train, y_test = train_test_split(X, Y, train_size=0.8, stratify=Y)\n",
    "count_scenarios\n",
    "\n"
   ]
  },
  {
   "cell_type": "code",
   "execution_count": 157,
   "id": "6ddcc7b4",
   "metadata": {},
   "outputs": [
    {
     "data": {
      "text/plain": [
       "array([[53,  6,  0,  1],\n",
       "       [22, 34,  0,  3],\n",
       "       [ 2,  0,  5,  0],\n",
       "       [ 3, 11,  1, 45]])"
      ]
     },
     "execution_count": 157,
     "metadata": {},
     "output_type": "execute_result"
    }
   ],
   "source": [
    "k = 7\n",
    "knn = KNeighborsClassifier(n_neighbors=k)\n",
    "\n",
    "# Train the classifier\n",
    "knn.fit(X_train, y_train)\n",
    "y_prediction = knn.predict(X_test)\n",
    "\n",
    "confusion_matrix(y_test, y_prediction, labels=['hasgame', 'owin', 'tie', 'xwin'])"
   ]
  },
  {
   "cell_type": "code",
   "execution_count": 137,
   "id": "4c9a26aa",
   "metadata": {},
   "outputs": [
    {
     "data": {
      "image/png": "[encoded data removed]",
      "text/plain": [
       "<Figure size 800x600 with 2 Axes>"
      ]
     },
     "metadata": {},
     "output_type": "display_data"
    }
   ],
   "source": [
    "k = 7\n",
    "knn = KNeighborsClassifier(n_neighbors=k)\n",
    "\n",
    "# Train the classifier\n",
    "knn.fit(X_train, y_train)\n",
    "\n",
    "y_prediction = knn.predict(X_test)\n",
    "mat = confusion_matrix(y_test, y_prediction, labels=['hasgame', 'owin', 'tie', 'xwin'])\n",
    "\n",
    "# Nomes bonitinhos para o eixo\n",
    "labels = ['hasgame', 'owin', 'tie', 'xwin']\n",
    "\n",
    "# Plot usando seaborn\n",
    "plt.figure(figsize=(8, 6))\n",
    "sns.heatmap(mat, annot=True, fmt='d', cmap='Blues', xticklabels=labels, yticklabels=labels)\n",
    "plt.xlabel('Classe prevista')\n",
    "plt.ylabel('Classe real')\n",
    "plt.title('Matriz de Confusão')\n",
    "plt.show()"
   ]
  },
  {
   "cell_type": "code",
   "execution_count": null,
   "id": "e87a6e46",
   "metadata": {},
   "outputs": [
    {
     "name": "stdout",
     "output_type": "stream",
     "text": [
      "Acuracia:  0.7365591397849462\n",
      "0.7365591397849462\n",
      "              precision    recall  f1-score   support\n",
      "\n",
      "     hasgame       0.66      0.88      0.76        60\n",
      "        owin       0.67      0.58      0.62        59\n",
      "         tie       0.83      0.71      0.77         7\n",
      "        xwin       0.92      0.75      0.83        60\n",
      "\n",
      "    accuracy                           0.74       186\n",
      "   macro avg       0.77      0.73      0.74       186\n",
      "weighted avg       0.75      0.74      0.74       186\n",
      "\n"
     ]
    }
   ],
   "source": [
    "# Usando indexação padrão para arrays NumPy\n",
    "ndtest = y_test.to_numpy()\n",
    "\n",
    "acerto = 0\n",
    "for i in range(len(y_prediction)):\n",
    "    if y_prediction[i] == ndtest[i]:  # Indexação padrão para numpy arrays\n",
    "        acerto += 1\n",
    "\n",
    "print(\"Acuracia: \", acerto / len(y_prediction))\n",
    "print(accuracy_score(y_test, y_prediction))\n",
    "print(classification_report(y_test, y_prediction))"
   ]
  },
  {
   "cell_type": "code",
   "execution_count": 162,
   "id": "3a766865",
   "metadata": {},
   "outputs": [
    {
     "data": {
      "text/plain": [
       "<Figure size 1000x600 with 0 Axes>"
      ]
     },
     "metadata": {},
     "output_type": "display_data"
    },
    {
     "data": {
      "image/png": "[encoded data removed]",
      "text/plain": [
       "<Figure size 1000x600 with 1 Axes>"
      ]
     },
     "metadata": {},
     "output_type": "display_data"
    }
   ],
   "source": [
    "# Gera o classification_report como dicionário\n",
    "report = classification_report(y_test, y_prediction, output_dict=True)\n",
    "\n",
    "# Converte em DataFrame\n",
    "df_report = pd.DataFrame(report).transpose()\n",
    "\n",
    "# Filtra apenas as classes de interesse (ignora média geral e accuracy)\n",
    "classes = ['hasgame', 'owin', 'tie', 'xwin']\n",
    "df_filtered = df_report.loc[classes, ['precision', 'recall', 'f1-score']]\n",
    "\n",
    "# Configura estilo do seaborn\n",
    "sns.set(style='whitegrid')\n",
    "plt.figure(figsize=(10, 6))\n",
    "\n",
    "# Cria o gráfico de barras\n",
    "ax = df_filtered.plot(kind='bar', figsize=(10, 6), ylim=(0, 1), colormap='Set2', edgecolor='black')\n",
    "\n",
    "# Adiciona valores nas barras\n",
    "for container in ax.containers:\n",
    "    ax.bar_label(container, fmt='%.2f', label_type='edge', padding=2)\n",
    "\n",
    "# Ajusta elementos visuais\n",
    "plt.title('Desempenho do Classificador por Classe', fontsize=14)\n",
    "plt.ylabel('Valor da Métrica')\n",
    "plt.xlabel('Classe')\n",
    "plt.xticks(rotation=0)\n",
    "plt.legend(title='Métrica', loc='upper center', bbox_to_anchor=(0.5, 1.0), ncol=3, fontsize='small')\n",
    "plt.tight_layout()\n",
    "plt.show()"
   ]
  },
  {
   "cell_type": "code",
   "execution_count": 169,
   "id": "d4ac010f",
   "metadata": {},
   "outputs": [
    {
     "name": "stdout",
     "output_type": "stream",
     "text": [
      "Exemplo 1: Classe prevista: tie\n",
      "Tabuleiro: {'resp': 'tie', 'value': [0, 1, 1, 1, 1, 0, 0, 0, 1]}\n",
      "Probabilidades por classe:\n",
      " hasgame: 0.00, owin: 0.14, tie: 0.86, xwin: 0.00\n",
      "Classe real: tie, Acerto: True\n",
      "\n",
      "Exemplo 2: Classe prevista: owin\n",
      "Tabuleiro: {'resp': 'owin', 'value': [0, 0, 0, 1, 1, -1, -1, -1, 1]}\n",
      "Probabilidades por classe:\n",
      " hasgame: 0.14, owin: 0.57, tie: 0.00, xwin: 0.29\n",
      "Classe real: owin, Acerto: True\n",
      "\n",
      "Exemplo 3: Classe prevista: owin\n",
      "Tabuleiro: {'resp': 'hasgame', 'value': [-1, 1, 1, 0, 0, -1, 0, 1, 1]}\n",
      "Probabilidades por classe:\n",
      " hasgame: 0.14, owin: 0.43, tie: 0.14, xwin: 0.29\n",
      "Classe real: hasgame, Acerto: False\n",
      "\n",
      "Exemplo 4: Classe prevista: owin\n",
      "Tabuleiro: {'resp': 'xwin', 'value': [1, 0, 0, 1, 1, 1, 0, -1, 0]}\n",
      "Probabilidades por classe:\n",
      " hasgame: 0.00, owin: 0.43, tie: 0.14, xwin: 0.43\n",
      "Classe real: xwin, Acerto: False\n",
      "\n"
     ]
    }
   ],
   "source": [
    "# Criar exemplos de teste adicionais\n",
    "exemplos_teste = [\n",
    "    {'resp': 'tie', 'value': [0, 1, 1, 1, 1, 0, 0, 0, 1]}, \n",
    "    {'resp': 'owin', 'value': [0, 0, 0,1, 1, -1,-1, -1, 1]},  \n",
    "    {'resp': 'hasgame', 'value': [-1, 1, 1,0, 0, -1,0, 1, 1]}, \n",
    "    {'resp': 'xwin', 'value': [1, 0, 0,1, 1, 1, 0, -1, 0]}, \n",
    "]\n",
    "\n",
    "# Iterar sobre os exemplos de teste\n",
    "for i, exemplo_teste in enumerate(exemplos_teste, start=1):\n",
    "    # Predição da classe\n",
    "    resultado = knn.predict(np.array(exemplo_teste['value']).reshape(1, -1))\n",
    "    print(f\"Exemplo {i}: Classe prevista: {resultado[0]}\")\n",
    "    print(f\"Tabuleiro: {exemplo_teste}\")\n",
    "\n",
    "    # Probabilidades por classe\n",
    "    probabilidades = knn.predict_proba(np.array(exemplo_teste['value']).reshape(1, -1))\n",
    "    print(f\"Probabilidades por classe:\")\n",
    "    print(\" hasgame: {:.2f}, owin: {:.2f}, tie: {:.2f}, xwin: {:.2f}\".format(*probabilidades[0]))\n",
    "\n",
    "    classe_real = exemplo_teste['resp']\n",
    "    acerto = resultado[0] == classe_real\n",
    "    print(f\"Classe real: {classe_real}, Acerto: {acerto}\")\n",
    "    print()\n"
   ]
  },
  {
   "cell_type": "code",
   "execution_count": 163,
   "id": "c939bdbc",
   "metadata": {},
   "outputs": [
    {
     "name": "stdout",
     "output_type": "stream",
     "text": [
      "Defaulting to user installation because normal site-packages is not writeable\n",
      "Collecting tabulate\n",
      "  Downloading tabulate-0.9.0-py3-none-any.whl.metadata (34 kB)\n",
      "Downloading tabulate-0.9.0-py3-none-any.whl (35 kB)\n",
      "Installing collected packages: tabulate\n",
      "Successfully installed tabulate-0.9.0\n"
     ]
    }
   ],
   "source": [
    "!pip install tabulate"
   ]
  },
  {
   "cell_type": "code",
   "execution_count": 172,
   "id": "799b8797",
   "metadata": {},
   "outputs": [
    {
     "name": "stdout",
     "output_type": "stream",
     "text": [
      "╒════════════════════════════════╤═══════════════╤═══════════════════╤══════════╤═══════════╤════════╤═══════╤════════╕\n",
      "│ Posições                       │ Classe Real   │ Classe Prevista   │ Acerto   │   hasgame │   owin │   tie │   xwin │\n",
      "╞════════════════════════════════╪═══════════════╪═══════════════════╪══════════╪═══════════╪════════╪═══════╪════════╡\n",
      "│ [0, 1, 1, 1, 1, 0, 0, 0, 1]    │ tie           │ tie               │ ✅       │      0    │   0.14 │  0.86 │   0    │\n",
      "├────────────────────────────────┼───────────────┼───────────────────┼──────────┼───────────┼────────┼───────┼────────┤\n",
      "│ [0, 0, 0, 1, 1, -1, -1, -1, 1] │ owin          │ owin              │ ✅       │      0.14 │   0.57 │  0    │   0.29 │\n",
      "├────────────────────────────────┼───────────────┼───────────────────┼──────────┼───────────┼────────┼───────┼────────┤\n",
      "│ [-1, 1, 1, 0, 0, -1, 0, 1, 1]  │ hasgame       │ owin              │ ❌       │      0.14 │   0.43 │  0.14 │   0.29 │\n",
      "├────────────────────────────────┼───────────────┼───────────────────┼──────────┼───────────┼────────┼───────┼────────┤\n",
      "│ [1, 0, 0, 1, 1, 1, 0, -1, 0]   │ xwin          │ owin              │ ❌       │      0    │   0.43 │  0.14 │   0.43 │\n",
      "╘════════════════════════════════╧═══════════════╧═══════════════════╧══════════╧═══════════╧════════╧═══════╧════════╛\n"
     ]
    }
   ],
   "source": [
    "from tabulate import tabulate\n",
    "import numpy as np\n",
    "\n",
    "exemplos_teste = [\n",
    "    {'resp': 'tie', 'value': [0, 1, 1, 1, 1, 0, 0, 0, 1]}, \n",
    "    {'resp': 'owin', 'value': [0, 0, 0,1, 1, -1,-1, -1, 1]},  \n",
    "    {'resp': 'hasgame', 'value': [-1, 1, 1,0, 0, -1,0, 1, 1]}, \n",
    "    {'resp': 'xwin', 'value': [1, 0, 0,1, 1, 1, 0, -1, 0]}, \n",
    "]\n",
    "\n",
    "\n",
    "cabecalho = [\"Posições\", \"Classe Real\", \"Classe Prevista\", \"Acerto\", \"hasgame\", \"owin\", \"tie\", \"xwin\"]\n",
    "tabela_resultados = []\n",
    "\n",
    "for exemplo in exemplos_teste:\n",
    "    tabuleiro = np.array(exemplo['value']).reshape(1, -1)\n",
    "    classe_real = exemplo['resp']\n",
    "    resultado = knn.predict(tabuleiro)[0]\n",
    "    probabilidades = knn.predict_proba(tabuleiro)[0]\n",
    "    acerto = resultado == classe_real\n",
    "\n",
    "    # Formatando a linha da tabela\n",
    "    linha = [\n",
    "        exemplo['value'],\n",
    "        classe_real,\n",
    "        resultado,\n",
    "        \"✅\" if acerto else \"❌\",\n",
    "        *[\"{:.2f}\".format(p) for p in probabilidades]\n",
    "    ]\n",
    "    tabela_resultados.append(linha)\n",
    "\n",
    "# Imprime tudo como uma tabela bonitinha\n",
    "print(tabulate(tabela_resultados, headers=cabecalho, tablefmt=\"fancy_grid\"))\n"
   ]
  },
  {
   "cell_type": "markdown",
   "id": "8f0866b2",
   "metadata": {},
   "source": [
    "# "
   ]
  },
  {
   "cell_type": "code",
   "execution_count": null,
   "id": "196ac799",
   "metadata": {},
   "outputs": [
    {
     "data": {
      "text/html": [
       "<div>\n",
       "<style scoped>\n",
       "    .dataframe tbody tr th:only-of-type {\n",
       "        vertical-align: middle;\n",
       "    }\n",
       "\n",
       "    .dataframe tbody tr th {\n",
       "        vertical-align: top;\n",
       "    }\n",
       "\n",
       "    .dataframe thead th {\n",
       "        text-align: right;\n",
       "    }\n",
       "</style>\n",
       "<table border=\"1\" class=\"dataframe\">\n",
       "  <thead>\n",
       "    <tr style=\"text-align: right;\">\n",
       "      <th></th>\n",
       "      <th>0</th>\n",
       "      <th>1</th>\n",
       "      <th>2</th>\n",
       "      <th>3</th>\n",
       "      <th>4</th>\n",
       "      <th>5</th>\n",
       "      <th>6</th>\n",
       "      <th>7</th>\n",
       "      <th>8</th>\n",
       "      <th>9</th>\n",
       "    </tr>\n",
       "  </thead>\n",
       "  <tbody>\n",
       "    <tr>\n",
       "      <th>0</th>\n",
       "      <td>-1</td>\n",
       "      <td>0</td>\n",
       "      <td>1</td>\n",
       "      <td>0</td>\n",
       "      <td>1</td>\n",
       "      <td>0</td>\n",
       "      <td>-1</td>\n",
       "      <td>1</td>\n",
       "      <td>0</td>\n",
       "      <td>hasgame</td>\n",
       "    </tr>\n",
       "    <tr>\n",
       "      <th>1</th>\n",
       "      <td>-1</td>\n",
       "      <td>0</td>\n",
       "      <td>1</td>\n",
       "      <td>0</td>\n",
       "      <td>0</td>\n",
       "      <td>1</td>\n",
       "      <td>1</td>\n",
       "      <td>1</td>\n",
       "      <td>0</td>\n",
       "      <td>hasgame</td>\n",
       "    </tr>\n",
       "    <tr>\n",
       "      <th>2</th>\n",
       "      <td>-1</td>\n",
       "      <td>0</td>\n",
       "      <td>1</td>\n",
       "      <td>0</td>\n",
       "      <td>1</td>\n",
       "      <td>-1</td>\n",
       "      <td>0</td>\n",
       "      <td>1</td>\n",
       "      <td>0</td>\n",
       "      <td>hasgame</td>\n",
       "    </tr>\n",
       "    <tr>\n",
       "      <th>3</th>\n",
       "      <td>-1</td>\n",
       "      <td>1</td>\n",
       "      <td>0</td>\n",
       "      <td>0</td>\n",
       "      <td>0</td>\n",
       "      <td>1</td>\n",
       "      <td>1</td>\n",
       "      <td>1</td>\n",
       "      <td>0</td>\n",
       "      <td>hasgame</td>\n",
       "    </tr>\n",
       "    <tr>\n",
       "      <th>4</th>\n",
       "      <td>-1</td>\n",
       "      <td>1</td>\n",
       "      <td>1</td>\n",
       "      <td>-1</td>\n",
       "      <td>0</td>\n",
       "      <td>0</td>\n",
       "      <td>1</td>\n",
       "      <td>1</td>\n",
       "      <td>0</td>\n",
       "      <td>hasgame</td>\n",
       "    </tr>\n",
       "  </tbody>\n",
       "</table>\n",
       "</div>"
      ],
      "text/plain": [
       "   0  1  2  3  4  5  6  7  8        9\n",
       "0 -1  0  1  0  1  0 -1  1  0  hasgame\n",
       "1 -1  0  1  0  0  1  1  1  0  hasgame\n",
       "2 -1  0  1  0  1 -1  0  1  0  hasgame\n",
       "3 -1  1  0  0  0  1  1  1  0  hasgame\n",
       "4 -1  1  1 -1  0  0  1  1  0  hasgame"
      ]
     },
     "execution_count": 116,
     "metadata": {},
     "output_type": "execute_result"
    }
   ],
   "source": [
    "X_train = []\n",
    "y_train = [] \n",
    "\n",
    "data = pd.read_csv('./data/dados_finais_300.csv', header=None)\n",
    "\n",
    "X = data.iloc[:, :9]\n",
    "Y = data.iloc[:, 9] \n",
    "\n",
    "\n",
    "data.head()\n"
   ]
  },
  {
   "cell_type": "code",
   "execution_count": 148,
   "id": "00d714ee",
   "metadata": {},
   "outputs": [
    {
     "name": "stdout",
     "output_type": "stream",
     "text": [
      "O melhor valor de k é: 7 com acurácia média de: 0.7189\n"
     ]
    },
    {
     "data": {
      "image/png": "[encoded data removed]",
      "text/plain": [
       "<Figure size 1000x500 with 1 Axes>"
      ]
     },
     "metadata": {},
     "output_type": "display_data"
    }
   ],
   "source": [
    "# Avaliar diferentes valores de k\n",
    "X_train, X_test, y_train, y_test = train_test_split(X, Y, train_size=0.8, stratify=Y)\n",
    "\n",
    "k_range = range(1, 30)\n",
    "scores = []\n",
    "\n",
    "for k in k_range:\n",
    "    knn = KNeighborsClassifier(n_neighbors=k, metric='manhattan')\n",
    "    cv_scores = cross_val_score(knn, X_train, y_train, cv=10, scoring='accuracy')\n",
    "    scores.append(cv_scores.mean())\n",
    "\n",
    "# Encontrar o melhor valor de k\n",
    "optimal_k = k_range[np.argmax(scores)]\n",
    "print(f'O melhor valor de k é: {optimal_k} com acurácia média de: {max(scores):.4f}')\n",
    "\n",
    "# Plotar gráfico de desempenho\n",
    "plt.figure(figsize=(10, 5))\n",
    "plt.plot(k_range, scores, marker='o')\n",
    "plt.xlabel('Valor de k')\n",
    "plt.ylabel('Acurácia média na validação cruzada')\n",
    "plt.title('Determinação do melhor k usando Validação Cruzada (Manhattan)')\n",
    "plt.grid(True)\n",
    "plt.show()"
   ]
  }
 ],
 "metadata": {
  "kernelspec": {
   "display_name": "Python 3",
   "language": "python",
   "name": "python3"
  },
  "language_info": {
   "codemirror_mode": {
    "name": "ipython",
    "version": 3
   },
   "file_extension": ".py",
   "mimetype": "text/x-python",
   "name": "python",
   "nbconvert_exporter": "python",
   "pygments_lexer": "ipython3",
   "version": "3.12.6"
  }
 },
 "nbformat": 4,
 "nbformat_minor": 5
}
